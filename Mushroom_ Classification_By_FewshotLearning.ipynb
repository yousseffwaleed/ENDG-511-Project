{
  "nbformat": 4,
  "nbformat_minor": 0,
  "metadata": {
    "colab": {
      "provenance": [],
      "machine_shape": "hm",
      "gpuType": "A100"
    },
    "kernelspec": {
      "name": "python3",
      "display_name": "Python 3"
    },
    "language_info": {
      "name": "python"
    },
    "accelerator": "GPU"
  },
  "cells": [
    {
      "cell_type": "code",
      "execution_count": 3,
      "metadata": {
        "id": "QtcRH9b-CYi7"
      },
      "outputs": [],
      "source": [
        "BASE_PATH = \"/content/drive/MyDrive/archive/Dataset_Filtered\"\n",
        "CLASSES = [\"Edible\", \"poisonous\"]\n",
        "IMG_SIZE = (224, 224)\n"
      ]
    },
    {
      "cell_type": "code",
      "source": [
        "from google.colab import drive\n",
        "drive.mount('/content/drive')"
      ],
      "metadata": {
        "colab": {
          "base_uri": "https://localhost:8080/"
        },
        "id": "mtTLNXKSqTuZ",
        "outputId": "e372dce7-88a1-4fac-a55b-4b7590452903"
      },
      "execution_count": 2,
      "outputs": [
        {
          "output_type": "stream",
          "name": "stdout",
          "text": [
            "Mounted at /content/drive\n"
          ]
        }
      ]
    },
    {
      "cell_type": "code",
      "source": [
        "import os\n",
        "import random\n",
        "import tensorflow as tf\n",
        "\n",
        "CLASSES = [\"Edible\", \"poisonous\"]\n",
        "BASE_PATH = \"/content/drive/MyDrive/archive/Dataset_Filtered\"\n",
        "IMG_SIZE = (224, 224)\n",
        "\n",
        "def load_image(path):\n",
        "    img = tf.io.read_file(path)\n",
        "    img = tf.image.decode_jpeg(img, channels=3)\n",
        "    img = tf.image.resize(img, IMG_SIZE)\n",
        "    return img / 255.0\n",
        "\n",
        "def generate_episode(k_shot=5, query_class=0):\n",
        "    support_images, support_labels = [], []\n",
        "    query_image, query_label = None, None\n",
        "\n",
        "    for label, cls in enumerate(CLASSES):\n",
        "        class_dir = os.path.join(BASE_PATH, cls)\n",
        "        species_list = os.listdir(class_dir)\n",
        "        selected_species = random.sample(species_list, min(3, len(species_list)))\n",
        "\n",
        "        total_imgs_needed = k_shot\n",
        "        imgs_collected = 0\n",
        "\n",
        "        for species in selected_species:\n",
        "            species_path = os.path.join(class_dir, species)\n",
        "            img_files = os.listdir(species_path)\n",
        "            sample_count = min(len(img_files), max(1, total_imgs_needed // len(selected_species)))\n",
        "\n",
        "            sampled_imgs = random.sample(img_files, sample_count)\n",
        "            for img_file in sampled_imgs:\n",
        "                img_path = os.path.join(species_path, img_file)\n",
        "                support_images.append(load_image(img_path))\n",
        "                support_labels.append(label)\n",
        "                imgs_collected += 1\n",
        "\n",
        "            if imgs_collected >= k_shot:\n",
        "                break\n",
        "\n",
        "        if label == query_class:\n",
        "            query_species = random.choice([s for s in species_list if s not in selected_species])\n",
        "            query_dir = os.path.join(class_dir, query_species)\n",
        "            query_file = random.choice(os.listdir(query_dir))\n",
        "            query_path = os.path.join(query_dir, query_file)\n",
        "            query_image = load_image(query_path)\n",
        "            query_label = label\n",
        "\n",
        "    return {\n",
        "        \"support_images\": tf.stack(support_images),\n",
        "        \"support_labels\": tf.convert_to_tensor(support_labels),\n",
        "        \"query_image\": query_image,\n",
        "        \"query_label\": tf.convert_to_tensor(query_label)\n",
        "    }\n"
      ],
      "metadata": {
        "id": "jveu-Lx9PcNY"
      },
      "execution_count": 12,
      "outputs": []
    },
    {
      "cell_type": "code",
      "source": [
        "from tensorflow.keras import layers, models\n",
        "from tensorflow.keras.applications import EfficientNetB0\n",
        "#Running EfficentNetB0 as our Base Model\n",
        "def get_embedding_model():\n",
        "    base = EfficientNetB0(include_top=False, weights='imagenet', input_shape=(224, 224, 3))\n",
        "    for layer in base.layers[-30:]:\n",
        "        layer.trainable = True\n",
        "\n",
        "    x = layers.GlobalAveragePooling2D()(base.output)\n",
        "    x = layers.Dense(128)(x)\n",
        "    return models.Model(base.input, x)\n",
        "\n",
        "embedding_model = get_embedding_model()\n"
      ],
      "metadata": {
        "id": "qVpvNiHkp0yx",
        "colab": {
          "base_uri": "https://localhost:8080/"
        },
        "outputId": "bcf93fda-cbf6-4724-d42c-2d16ce5af19c"
      },
      "execution_count": 5,
      "outputs": [
        {
          "output_type": "stream",
          "name": "stdout",
          "text": [
            "Downloading data from https://storage.googleapis.com/keras-applications/efficientnetb0_notop.h5\n",
            "\u001b[1m16705208/16705208\u001b[0m \u001b[32m━━━━━━━━━━━━━━━━━━━━\u001b[0m\u001b[37m\u001b[0m \u001b[1m2s\u001b[0m 0us/step\n"
          ]
        }
      ]
    },
    {
      "cell_type": "code",
      "source": [
        "import numpy as np\n",
        "#Calculating the accuracy and loss per epoch using 20 images per class and 200 eposides\n",
        "optimizer = tf.keras.optimizers.Adam(1e-5)\n",
        "loss_fn = tf.keras.losses.SparseCategoricalCrossentropy()\n",
        "\n",
        "train_losses = []\n",
        "train_accuracies = []\n",
        "\n",
        "for epoch in range(1, 6):\n",
        "    epoch_loss = []\n",
        "    epoch_acc = []\n",
        "\n",
        "    for step in range(200):\n",
        "        episode = generate_episode(k_shot=20)\n",
        "        with tf.GradientTape() as tape:\n",
        "            support_emb = embedding_model(episode['support_images'])\n",
        "            query_emb = embedding_model(tf.expand_dims(episode['query_image'], axis=0))\n",
        "\n",
        "            support_emb = tf.math.l2_normalize(support_emb, axis=1)\n",
        "            query_emb = tf.math.l2_normalize(query_emb, axis=1)\n",
        "\n",
        "            support_labels = episode[\"support_labels\"]\n",
        "            proto_edible = tf.reduce_mean(tf.boolean_mask(support_emb, support_labels == 0), axis=0)\n",
        "            proto_poison = tf.reduce_mean(tf.boolean_mask(support_emb, support_labels == 1), axis=0)\n",
        "            prototypes = tf.stack([proto_edible, proto_poison])\n",
        "\n",
        "            distances = tf.reduce_sum(tf.square(prototypes - query_emb), axis=1)\n",
        "            probs = tf.nn.softmax(-distances)\n",
        "\n",
        "            true_label = tf.expand_dims(episode['query_label'], 0)\n",
        "            loss = loss_fn(true_label, tf.expand_dims(probs, 0))\n",
        "\n",
        "        grads = tape.gradient(loss, embedding_model.trainable_variables)\n",
        "        optimizer.apply_gradients(zip(grads, embedding_model.trainable_variables))\n",
        "\n",
        "        pred = tf.argmax(probs).numpy()\n",
        "        acc = 1.0 if pred == episode['query_label'].numpy() else 0.0\n",
        "        epoch_loss.append(loss.numpy())\n",
        "        epoch_acc.append(acc)\n",
        "\n",
        "    print(f\"Epoch {epoch} - Loss: {np.mean(epoch_loss):.4f}, Accuracy: {np.mean(epoch_acc):.4f}\")\n"
      ],
      "metadata": {
        "colab": {
          "base_uri": "https://localhost:8080/"
        },
        "id": "Bf6dOQfRp5dq",
        "outputId": "3a77873d-7e09-4362-9821-758ce97579f9"
      },
      "execution_count": null,
      "outputs": [
        {
          "output_type": "stream",
          "name": "stdout",
          "text": [
            "Epoch 1 - Loss: 0.6931, Accuracy: 0.5250\n",
            "Epoch 2 - Loss: 0.6932, Accuracy: 0.4950\n",
            "Epoch 3 - Loss: 0.6930, Accuracy: 0.5750\n",
            "Epoch 4 - Loss: 0.6931, Accuracy: 0.5650\n",
            "Epoch 5 - Loss: 0.6931, Accuracy: 0.6350\n"
          ]
        }
      ]
    },
    {
      "cell_type": "code",
      "source": [
        "import numpy as np\n",
        "from sklearn.metrics import confusion_matrix, ConfusionMatrixDisplay\n",
        "import matplotlib.pyplot as plt\n",
        "\n",
        "true_labels = []\n",
        "predicted_labels = []\n",
        "\n",
        "queries_per_class = 150\n",
        "\n",
        "for target_label in [0, 1]:\n",
        "    for _ in range(queries_per_class):\n",
        "        episode = generate_episode(k_shot=20, query_class=target_label)\n",
        "\n",
        "        support_emb = embedding_model(episode['support_images'])\n",
        "        query_emb = embedding_model(tf.expand_dims(episode['query_image'], axis=0))\n",
        "\n",
        "        support_emb = tf.math.l2_normalize(support_emb, axis=1)\n",
        "        query_emb = tf.math.l2_normalize(query_emb, axis=1)\n",
        "\n",
        "        support_labels = episode[\"support_labels\"]\n",
        "        proto_edible = tf.reduce_mean(tf.boolean_mask(support_emb, support_labels == 0), axis=0)\n",
        "        proto_poison = tf.reduce_mean(tf.boolean_mask(support_emb, support_labels == 1), axis=0)\n",
        "        prototypes = tf.stack([proto_edible, proto_poison])\n",
        "\n",
        "        distances = tf.reduce_sum(tf.square(prototypes - query_emb), axis=1)\n",
        "        probs = tf.nn.softmax(-distances)\n",
        "        pred = tf.argmax(probs).numpy()\n",
        "\n",
        "        true_labels.append(target_label)\n",
        "        predicted_labels.append(pred)\n",
        "\n",
        "cm = confusion_matrix(true_labels, predicted_labels)\n",
        "disp = ConfusionMatrixDisplay(confusion_matrix=cm, display_labels=[\"Edible\", \"Poisonous\"])\n",
        "disp.plot(cmap=\"Blues\")\n",
        "plt.title(\"Confusion Matrix – 300 Balanced Few-Shot Queries\")\n",
        "plt.show()\n"
      ],
      "metadata": {
        "colab": {
          "base_uri": "https://localhost:8080/",
          "height": 472
        },
        "id": "zfZg7bibPiW5",
        "outputId": "62e731ed-ef1b-4a40-9cec-25ac221c94f5"
      },
      "execution_count": 14,
      "outputs": [
        {
          "output_type": "display_data",
          "data": {
            "text/plain": [
              "<Figure size 640x480 with 2 Axes>"
            ],
            "image/png": "[encoded data removed]"
          },
          "metadata": {}
        }
      ]
    }
  ]
}